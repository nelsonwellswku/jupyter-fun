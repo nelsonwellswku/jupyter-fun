{
 "cells": [
  {
   "cell_type": "code",
   "execution_count": 88,
   "metadata": {},
   "outputs": [],
   "source": [
    "import pandas as pd\n",
    "import numpy as np"
   ]
  },
  {
   "cell_type": "markdown",
   "metadata": {},
   "source": [
    "### Title Basics"
   ],
   "execution_count": null,
   "outputs": []
  },
  {
   "cell_type": "code",
   "execution_count": 89,
   "metadata": {},
   "outputs": [
    {
     "output_type": "execute_result",
     "data": {
      "text/plain": "6564302"
     },
     "metadata": {},
     "execution_count": 89
    }
   ],
   "source": [
    "basics = pd.read_csv('title.basics.tsv', sep='\\t', dtype={'startYear': str})\n",
    "basics = basics.drop(columns=['originalTitle', 'endYear', 'genres'])\n",
    "len(basics)"
   ]
  },
  {
   "cell_type": "markdown",
   "metadata": {},
   "source": [
    "#### Filter out entries that aren't movies"
   ],
   "execution_count": null,
   "outputs": []
  },
  {
   "cell_type": "code",
   "execution_count": 90,
   "metadata": {},
   "outputs": [
    {
     "output_type": "execute_result",
     "data": {
      "text/plain": "544128"
     },
     "metadata": {},
     "execution_count": 90
    }
   ],
   "source": [
    "is_movie = basics['titleType'] == 'movie'\n",
    "basics = basics[is_movie]\n",
    "len(basics)"
   ]
  },
  {
   "cell_type": "markdown",
   "metadata": {},
   "source": [
    "#### Filter out adult titles"
   ],
   "execution_count": null,
   "outputs": []
  },
  {
   "cell_type": "code",
   "execution_count": 91,
   "metadata": {},
   "outputs": [
    {
     "output_type": "execute_result",
     "data": {
      "text/plain": "535418"
     },
     "metadata": {},
     "execution_count": 91
    }
   ],
   "source": [
    "not_adult = basics['isAdult'] == 0\n",
    "basics = basics[not_adult]\n",
    "basics = basics.drop(columns=['isAdult'])\n",
    "len(basics)"
   ]
  },
  {
   "cell_type": "markdown",
   "metadata": {},
   "source": [
    "#### Filter out movies that do not have a start year"
   ],
   "execution_count": null,
   "outputs": []
  },
  {
   "cell_type": "code",
   "execution_count": 92,
   "metadata": {},
   "outputs": [
    {
     "output_type": "execute_result",
     "data": {
      "text/plain": "473339"
     },
     "metadata": {},
     "execution_count": 92
    }
   ],
   "source": [
    "has_start_year = basics['startYear'] != '\\\\N'\n",
    "basics = basics[has_start_year]\n",
    "len(basics)"
   ]
  },
  {
   "cell_type": "code",
   "execution_count": null,
   "metadata": {},
   "outputs": [],
   "source": [
    "#basics"
   ]
  },
  {
   "cell_type": "markdown",
   "metadata": {},
   "source": [
    "### Principals"
   ],
   "execution_count": null,
   "outputs": []
  },
  {
   "cell_type": "code",
   "execution_count": 93,
   "metadata": {},
   "outputs": [
    {
     "output_type": "execute_result",
     "data": {
      "text/plain": "37930494"
     },
     "metadata": {},
     "execution_count": 93
    }
   ],
   "source": [
    "principals = pd.read_csv('title.principals.tsv', sep='\\t', dtype={'types': str})\n",
    "len(principals)"
   ]
  },
  {
   "cell_type": "markdown",
   "metadata": {},
   "source": [
    "#### Only actors or actresses, not director, composer, etc."
   ],
   "execution_count": null,
   "outputs": []
  },
  {
   "cell_type": "code",
   "execution_count": 94,
   "metadata": {},
   "outputs": [
    {
     "output_type": "execute_result",
     "data": {
      "text/plain": "15388567"
     },
     "metadata": {},
     "execution_count": 94
    }
   ],
   "source": [
    "is_actor = (principals['category'] == 'actor') | (principals['category'] == 'actress')\n",
    "principals = principals[is_actor]\n",
    "principals = principals.drop(columns=['category'])\n",
    "len(principals)"
   ]
  },
  {
   "cell_type": "markdown",
   "metadata": {},
   "source": [
    "#### Remove if they played no characters"
   ],
   "execution_count": null,
   "outputs": []
  },
  {
   "cell_type": "code",
   "execution_count": 95,
   "metadata": {},
   "outputs": [
    {
     "output_type": "execute_result",
     "data": {
      "text/plain": "12601274"
     },
     "metadata": {},
     "execution_count": 95
    }
   ],
   "source": [
    " principals = principals[principals['characters'] != '\\\\N']\n",
    " len(principals)"
   ]
  },
  {
   "cell_type": "markdown",
   "metadata": {},
   "source": [
    "### Name Basics"
   ],
   "execution_count": null,
   "outputs": []
  },
  {
   "cell_type": "code",
   "execution_count": 96,
   "metadata": {},
   "outputs": [],
   "source": [
    "names = pd.read_csv('name.basics.tsv', sep='\\t')"
   ]
  },
  {
   "cell_type": "code",
   "execution_count": 97,
   "metadata": {},
   "outputs": [
    {
     "output_type": "execute_result",
     "data": {
      "text/plain": "9901916"
     },
     "metadata": {},
     "execution_count": 97
    }
   ],
   "source": [
    "len(names)"
   ]
  },
  {
   "cell_type": "markdown",
   "metadata": {},
   "source": [
    "#### Remove names without a birth year"
   ],
   "execution_count": null,
   "outputs": []
  },
  {
   "cell_type": "code",
   "execution_count": 98,
   "metadata": {},
   "outputs": [
    {
     "output_type": "execute_result",
     "data": {
      "text/plain": "496535"
     },
     "metadata": {},
     "execution_count": 98
    }
   ],
   "source": [
    "names = names[names['birthYear'] != '\\\\N']\n",
    "len(names)"
   ]
  },
  {
   "cell_type": "markdown",
   "metadata": {},
   "source": [
    "#### Remove names without a primary profession"
   ],
   "execution_count": null,
   "outputs": []
  },
  {
   "cell_type": "code",
   "execution_count": 99,
   "metadata": {},
   "outputs": [
    {
     "output_type": "execute_result",
     "data": {
      "text/plain": "438537"
     },
     "metadata": {},
     "execution_count": 99
    }
   ],
   "source": [
    "names = names.dropna(subset=['primaryProfession'])\n",
    "len(names)"
   ]
  },
  {
   "cell_type": "markdown",
   "metadata": {},
   "source": [
    "#### Remove Names without any known-for titles"
   ],
   "execution_count": null,
   "outputs": []
  },
  {
   "cell_type": "code",
   "execution_count": 100,
   "metadata": {},
   "outputs": [
    {
     "output_type": "execute_result",
     "data": {
      "text/plain": "436811"
     },
     "metadata": {},
     "execution_count": 100
    }
   ],
   "source": [
    "names = names[names['knownForTitles'] != '\\\\N']\n",
    "len(names)"
   ]
  },
  {
   "cell_type": "markdown",
   "metadata": {},
   "source": [
    "#### Drop duplicate names\n",
    "This will result in removing actors erroneously. For example, if there was a Ben Smith born in 1928 who starred in 2 movies and another Ben Smith born in 1945 who starred in 6 movies, one of those Ben Smiths will be removed from the data set.\n",
    "\n",
    "This is good enough for now."
   ],
   "execution_count": null,
   "outputs": []
  },
  {
   "cell_type": "code",
   "execution_count": 101,
   "metadata": {},
   "outputs": [
    {
     "output_type": "execute_result",
     "data": {
      "text/plain": "425575"
     },
     "metadata": {},
     "execution_count": 101
    }
   ],
   "source": [
    "names = names.drop_duplicates(subset=['primaryName'])\n",
    "len(names)"
   ]
  },
  {
   "cell_type": "markdown",
   "metadata": {},
   "source": [
    "### Results"
   ],
   "execution_count": null,
   "outputs": []
  },
  {
   "cell_type": "code",
   "execution_count": 102,
   "metadata": {},
   "outputs": [
    {
     "output_type": "execute_result",
     "data": {
      "text/plain": "Index(['tconst', 'titleType', 'primaryTitle', 'startYear', 'runtimeMinutes',\n       'ordering', 'nconst', 'job', 'characters', 'primaryName', 'birthYear',\n       'deathYear', 'primaryProfession', 'knownForTitles'],\n      dtype='object')"
     },
     "metadata": {},
     "execution_count": 102
    }
   ],
   "source": [
    "merged = basics.merge(principals, on=['tconst'])\n",
    "merged = merged.merge(names, on=['nconst'])\n",
    "merged.columns"
   ]
  },
  {
   "cell_type": "code",
   "execution_count": 103,
   "metadata": {},
   "outputs": [
    {
     "output_type": "execute_result",
     "data": {
      "text/plain": "644489"
     },
     "metadata": {},
     "execution_count": 103
    }
   ],
   "source": [
    "results = pd.DataFrame(\n",
    "    {'TitleId': merged['tconst'],\n",
    "     'NameId': merged['nconst'],\n",
    "     'Movie Title': merged['primaryTitle'],\n",
    "     'Year': merged['startYear'],\n",
    "     'Actor': merged['primaryName'],\n",
    "     'Characters': merged['characters']})\n",
    "len(results)"
   ]
  },
  {
   "cell_type": "code",
   "execution_count": 104,
   "metadata": {},
   "outputs": [
    {
     "output_type": "execute_result",
     "data": {
      "text/plain": "114738"
     },
     "metadata": {},
     "execution_count": 104
    }
   ],
   "source": [
    "len(pd.unique(results['Actor']))"
   ]
  },
  {
   "cell_type": "markdown",
   "metadata": {},
   "source": [
    "### Things To Do With The Data"
   ],
   "execution_count": null,
   "outputs": []
  },
  {
   "cell_type": "code",
   "execution_count": 105,
   "metadata": {},
   "outputs": [
    {
     "output_type": "execute_result",
     "data": {
      "text/plain": "          TitleId     NameId   Movie Title  Year               Actor  \\\n387153  tt0848228  nm0000375  The Avengers  2012   Robert Downey Jr.   \n442975  tt0848228  nm0424060  The Avengers  2012  Scarlett Johansson   \n518970  tt0848228  nm0719637  The Avengers  2012       Jeremy Renner   \n\n                                Characters  \n387153           [\"Tony Stark\",\"Iron Man\"]  \n442975  [\"Natasha Romanoff\",\"Black Widow\"]  \n518970          [\"Clint Barton\",\"Hawkeye\"]  ",
      "text/html": "<div>\n<style scoped>\n    .dataframe tbody tr th:only-of-type {\n        vertical-align: middle;\n    }\n\n    .dataframe tbody tr th {\n        vertical-align: top;\n    }\n\n    .dataframe thead th {\n        text-align: right;\n    }\n</style>\n<table border=\"1\" class=\"dataframe\">\n  <thead>\n    <tr style=\"text-align: right;\">\n      <th></th>\n      <th>TitleId</th>\n      <th>NameId</th>\n      <th>Movie Title</th>\n      <th>Year</th>\n      <th>Actor</th>\n      <th>Characters</th>\n    </tr>\n  </thead>\n  <tbody>\n    <tr>\n      <th>387153</th>\n      <td>tt0848228</td>\n      <td>nm0000375</td>\n      <td>The Avengers</td>\n      <td>2012</td>\n      <td>Robert Downey Jr.</td>\n      <td>[\"Tony Stark\",\"Iron Man\"]</td>\n    </tr>\n    <tr>\n      <th>442975</th>\n      <td>tt0848228</td>\n      <td>nm0424060</td>\n      <td>The Avengers</td>\n      <td>2012</td>\n      <td>Scarlett Johansson</td>\n      <td>[\"Natasha Romanoff\",\"Black Widow\"]</td>\n    </tr>\n    <tr>\n      <th>518970</th>\n      <td>tt0848228</td>\n      <td>nm0719637</td>\n      <td>The Avengers</td>\n      <td>2012</td>\n      <td>Jeremy Renner</td>\n      <td>[\"Clint Barton\",\"Hawkeye\"]</td>\n    </tr>\n  </tbody>\n</table>\n</div>"
     },
     "metadata": {},
     "execution_count": 105
    }
   ],
   "source": [
    "avengers_movie = (results['Movie Title'] == 'The Avengers') & (results['Year'] == '2012')\n",
    "avengers_principal_actors = results[avengers_movie]\n",
    "avengers_principal_actors"
   ]
  },
  {
   "cell_type": "code",
   "execution_count": 106,
   "metadata": {},
   "outputs": [
    {
     "output_type": "execute_result",
     "data": {
      "text/plain": "          TitleId     NameId  \\\n367960  tt0087800  nm0000136   \n367961  tt0089839  nm0000136   \n367962  tt0099329  nm0000136   \n367963  tt0099487  nm0000136   \n367964  tt0106307  nm0000136   \n367965  tt0106387  nm0000136   \n367966  tt0108550  nm0000136   \n367967  tt0109707  nm0000136   \n367969  tt0112883  nm0000136   \n367968  tt0112817  nm0000136   \n367970  tt0113972  nm0000136   \n367972  tt0119008  nm0000136   \n367971  tt0118768  nm0000136   \n367973  tt0120669  nm0000136   \n367976  tt0138304  nm0000136   \n367977  tt0142688  nm0000136   \n367978  tt0162661  nm0000136   \n367979  tt0181833  nm0000136   \n367981  tt0247196  nm0000136   \n367974  tt0120681  nm0000136   \n367980  tt0221027  nm0000136   \n367982  tt0285823  nm0000136   \n367984  tt0325980  nm0000136   \n367985  tt0363988  nm0000136   \n367989  tt0381270  nm0000136   \n367987  tt0375920  nm0000136   \n367983  tt0308644  nm0000136   \n367986  tt0367594  nm0000136   \n367975  tt0121164  nm0000136   \n367990  tt0383574  nm0000136   \n367991  tt0408236  nm0000136   \n367992  tt0449088  nm0000136   \n367995  tt1152836  nm0000136   \n368000  tt1333667  nm0000136   \n367998  tt1243957  nm0000136   \n367993  tt1014759  nm0000136   \n367988  tt0376136  nm0000136   \n367996  tt1192628  nm0000136   \n367999  tt1298650  nm0000136   \n367994  tt1077368  nm0000136   \n367997  tt1210819  nm0000136   \n368003  tt2209764  nm0000136   \n368001  tt1355683  nm0000136   \n368007  tt3045616  nm0000136   \n368005  tt2567026  nm0000136   \n368008  tt3838992  nm0000136   \n368013  tt7604980  nm0000136   \n368002  tt1790809  nm0000136   \n368012  tt6865690  nm0000136   \n368004  tt2296777  nm0000136   \n368006  tt2677722  nm0000136   \n368009  tt4123430  nm0000136   \n368011  tt6149154  nm0000136   \n368014  tt9179096  nm0000136   \n368010  tt4123432  nm0000136   \n\n                                              Movie Title  Year        Actor  \\\n367960                          A Nightmare on Elm Street  1984  Johnny Depp   \n367961                                     Private Resort  1985  Johnny Depp   \n367962                                           Cry-Baby  1990  Johnny Depp   \n367963                                Edward Scissorhands  1990  Johnny Depp   \n367964                                      Arizona Dream  1993  Johnny Depp   \n367965                                       Benny & Joon  1993  Johnny Depp   \n367966                        What's Eating Gilbert Grape  1993  Johnny Depp   \n367967                                            Ed Wood  1994  Johnny Depp   \n367969                                   Don Juan DeMarco  1994  Johnny Depp   \n367968                                           Dead Man  1995  Johnny Depp   \n367970                                       Nick of Time  1995  Johnny Depp   \n367972                                      Donnie Brasco  1997  Johnny Depp   \n367971                                          The Brave  1997  Johnny Depp   \n367973                     Fear and Loathing in Las Vegas  1998  Johnny Depp   \n367976                               The Astronaut's Wife  1999  Johnny Depp   \n367977                                     The Ninth Gate  1999  Johnny Depp   \n367978                                      Sleepy Hollow  1999  Johnny Depp   \n367979  The Source: The Story of the Beats and the Bea...  1999  Johnny Depp   \n367981                                 Before Night Falls  2000  Johnny Depp   \n367974                                          From Hell  2001  Johnny Depp   \n367980                                               Blow  2001  Johnny Depp   \n367982                         Once Upon a Time in Mexico  2003  Johnny Depp   \n367984  Pirates of the Caribbean: The Curse of the Bla...  2003  Johnny Depp   \n367985                                      Secret Window  2004  Johnny Depp   \n367989               ...And They Lived Happily Ever After  2004  Johnny Depp   \n367987                                      The Libertine  2004  Johnny Depp   \n367983                                  Finding Neverland  2004  Johnny Depp   \n367986                  Charlie and the Chocolate Factory  2005  Johnny Depp   \n367975                                       Corpse Bride  2005  Johnny Depp   \n367990         Pirates of the Caribbean: Dead Man's Chest  2006  Johnny Depp   \n367991     Sweeney Todd: The Demon Barber of Fleet Street  2007  Johnny Depp   \n367992           Pirates of the Caribbean: At World's End  2007  Johnny Depp   \n367995                                     Public Enemies  2009  Johnny Depp   \n368000                                When You're Strange  2009  Johnny Depp   \n367998                                        The Tourist  2010  Johnny Depp   \n367993                                Alice in Wonderland  2010  Johnny Depp   \n367988                                      The Rum Diary  2011  Johnny Depp   \n367996                                              Rango  2011  Johnny Depp   \n367999        Pirates of the Caribbean: On Stranger Tides  2011  Johnny Depp   \n367994                                       Dark Shadows  2012  Johnny Depp   \n367997                                    The Lone Ranger  2013  Johnny Depp   \n368003                                      Transcendence  2014  Johnny Depp   \n368001                                         Black Mass  2015  Johnny Depp   \n368007                                          Mortdecai  2015  Johnny Depp   \n368005                    Alice Through the Looking Glass  2016  Johnny Depp   \n368008                                        Yoga Hosers  2016  Johnny Depp   \n368013               Rolling Stone: Stories from the Edge  2017  Johnny Depp   \n368002   Pirates of the Caribbean: Dead Men Tell No Tales  2017  Johnny Depp   \n368012                                      The Professor  2018  Johnny Depp   \n368004                                    Sherlock Gnomes  2018  Johnny Depp   \n368006                                       City of Lies  2018  Johnny Depp   \n368009        Fantastic Beasts: The Crimes of Grindelwald  2018  Johnny Depp   \n368011                         Waiting for the Barbarians  2019  Johnny Depp   \n368014                                           Minamata  2020  Johnny Depp   \n368010          Fantastic Beasts and Where to Find Them 3  2021  Johnny Depp   \n\n                               Characters  \n367960                     [\"Glen Lantz\"]  \n367961                           [\"Jack\"]  \n367962                       [\"Cry-Baby\"]  \n367963            [\"Edward Scissorhands\"]  \n367964                  [\"Axel Blackmar\"]  \n367965                            [\"Sam\"]  \n367966                  [\"Gilbert Grape\"]  \n367967                        [\"Ed Wood\"]  \n367969               [\"Don Juan DeMarco\"]  \n367968                  [\"William Blake\"]  \n367970                    [\"Gene Watson\"]  \n367972                         [\"Donnie\"]  \n367971                        [\"Raphael\"]  \n367973                     [\"Raoul Duke\"]  \n367976     [\"Commander Spencer Armacost\"]  \n367977                     [\"Dean Corso\"]  \n367978                  [\"Ichabod Crane\"]  \n367979                   [\"Jack Kerouac\"]  \n367981    [\"Bon Bon\",\"Lieutenant Victor\"]  \n367974  [\"Inspector Frederick Abberline\"]  \n367980                    [\"George Jung\"]  \n367982                          [\"Sands\"]  \n367984                   [\"Jack Sparrow\"]  \n367985                    [\"Mort Rainey\"]  \n367989                      [\"L'inconnu\"]  \n367987                      [\"Rochester\"]  \n367983       [\"Sir James Matthew Barrie\"]  \n367986                    [\"Willy Wonka\"]  \n367975                [\"Victor Van Dort\"]  \n367990                   [\"Jack Sparrow\"]  \n367991                   [\"Sweeney Todd\"]  \n367992                   [\"Jack Sparrow\"]  \n367995                 [\"John Dillinger\"]  \n368000                       [\"Narrator\"]  \n367998                   [\"Frank Tupelo\"]  \n367993                     [\"Mad Hatter\"]  \n367988                           [\"Kemp\"]  \n367996                   [\"Rango\",\"Lars\"]  \n367999                   [\"Jack Sparrow\"]  \n367994               [\"Barnabas Collins\"]  \n367997                          [\"Tonto\"]  \n368003                    [\"Will Caster\"]  \n368001          [\"James 'Whitey' Bulger\"]  \n368007                      [\"Mortdecai\"]  \n368005        [\"Hatter Tarrant Hightopp\"]  \n368008                   [\"Guy Lapointe\"]  \n368013             [\"Hunter S. Thompson\"]  \n368002           [\"Captain Jack Sparrow\"]  \n368012                        [\"Richard\"]  \n368004                [\"Sherlock Gnomes\"]  \n368006                  [\"Russell Poole\"]  \n368009                    [\"Grindelwald\"]  \n368011                   [\"Colonel Joll\"]  \n368014                [\"W. Eugene Smith\"]  \n368010            [\"Gellert Grindelwald\"]  ",
      "text/html": "<div>\n<style scoped>\n    .dataframe tbody tr th:only-of-type {\n        vertical-align: middle;\n    }\n\n    .dataframe tbody tr th {\n        vertical-align: top;\n    }\n\n    .dataframe thead th {\n        text-align: right;\n    }\n</style>\n<table border=\"1\" class=\"dataframe\">\n  <thead>\n    <tr style=\"text-align: right;\">\n      <th></th>\n      <th>TitleId</th>\n      <th>NameId</th>\n      <th>Movie Title</th>\n      <th>Year</th>\n      <th>Actor</th>\n      <th>Characters</th>\n    </tr>\n  </thead>\n  <tbody>\n    <tr>\n      <th>367960</th>\n      <td>tt0087800</td>\n      <td>nm0000136</td>\n      <td>A Nightmare on Elm Street</td>\n      <td>1984</td>\n      <td>Johnny Depp</td>\n      <td>[\"Glen Lantz\"]</td>\n    </tr>\n    <tr>\n      <th>367961</th>\n      <td>tt0089839</td>\n      <td>nm0000136</td>\n      <td>Private Resort</td>\n      <td>1985</td>\n      <td>Johnny Depp</td>\n      <td>[\"Jack\"]</td>\n    </tr>\n    <tr>\n      <th>367962</th>\n      <td>tt0099329</td>\n      <td>nm0000136</td>\n      <td>Cry-Baby</td>\n      <td>1990</td>\n      <td>Johnny Depp</td>\n      <td>[\"Cry-Baby\"]</td>\n    </tr>\n    <tr>\n      <th>367963</th>\n      <td>tt0099487</td>\n      <td>nm0000136</td>\n      <td>Edward Scissorhands</td>\n      <td>1990</td>\n      <td>Johnny Depp</td>\n      <td>[\"Edward Scissorhands\"]</td>\n    </tr>\n    <tr>\n      <th>367964</th>\n      <td>tt0106307</td>\n      <td>nm0000136</td>\n      <td>Arizona Dream</td>\n      <td>1993</td>\n      <td>Johnny Depp</td>\n      <td>[\"Axel Blackmar\"]</td>\n    </tr>\n    <tr>\n      <th>367965</th>\n      <td>tt0106387</td>\n      <td>nm0000136</td>\n      <td>Benny &amp; Joon</td>\n      <td>1993</td>\n      <td>Johnny Depp</td>\n      <td>[\"Sam\"]</td>\n    </tr>\n    <tr>\n      <th>367966</th>\n      <td>tt0108550</td>\n      <td>nm0000136</td>\n      <td>What's Eating Gilbert Grape</td>\n      <td>1993</td>\n      <td>Johnny Depp</td>\n      <td>[\"Gilbert Grape\"]</td>\n    </tr>\n    <tr>\n      <th>367967</th>\n      <td>tt0109707</td>\n      <td>nm0000136</td>\n      <td>Ed Wood</td>\n      <td>1994</td>\n      <td>Johnny Depp</td>\n      <td>[\"Ed Wood\"]</td>\n    </tr>\n    <tr>\n      <th>367969</th>\n      <td>tt0112883</td>\n      <td>nm0000136</td>\n      <td>Don Juan DeMarco</td>\n      <td>1994</td>\n      <td>Johnny Depp</td>\n      <td>[\"Don Juan DeMarco\"]</td>\n    </tr>\n    <tr>\n      <th>367968</th>\n      <td>tt0112817</td>\n      <td>nm0000136</td>\n      <td>Dead Man</td>\n      <td>1995</td>\n      <td>Johnny Depp</td>\n      <td>[\"William Blake\"]</td>\n    </tr>\n    <tr>\n      <th>367970</th>\n      <td>tt0113972</td>\n      <td>nm0000136</td>\n      <td>Nick of Time</td>\n      <td>1995</td>\n      <td>Johnny Depp</td>\n      <td>[\"Gene Watson\"]</td>\n    </tr>\n    <tr>\n      <th>367972</th>\n      <td>tt0119008</td>\n      <td>nm0000136</td>\n      <td>Donnie Brasco</td>\n      <td>1997</td>\n      <td>Johnny Depp</td>\n      <td>[\"Donnie\"]</td>\n    </tr>\n    <tr>\n      <th>367971</th>\n      <td>tt0118768</td>\n      <td>nm0000136</td>\n      <td>The Brave</td>\n      <td>1997</td>\n      <td>Johnny Depp</td>\n      <td>[\"Raphael\"]</td>\n    </tr>\n    <tr>\n      <th>367973</th>\n      <td>tt0120669</td>\n      <td>nm0000136</td>\n      <td>Fear and Loathing in Las Vegas</td>\n      <td>1998</td>\n      <td>Johnny Depp</td>\n      <td>[\"Raoul Duke\"]</td>\n    </tr>\n    <tr>\n      <th>367976</th>\n      <td>tt0138304</td>\n      <td>nm0000136</td>\n      <td>The Astronaut's Wife</td>\n      <td>1999</td>\n      <td>Johnny Depp</td>\n      <td>[\"Commander Spencer Armacost\"]</td>\n    </tr>\n    <tr>\n      <th>367977</th>\n      <td>tt0142688</td>\n      <td>nm0000136</td>\n      <td>The Ninth Gate</td>\n      <td>1999</td>\n      <td>Johnny Depp</td>\n      <td>[\"Dean Corso\"]</td>\n    </tr>\n    <tr>\n      <th>367978</th>\n      <td>tt0162661</td>\n      <td>nm0000136</td>\n      <td>Sleepy Hollow</td>\n      <td>1999</td>\n      <td>Johnny Depp</td>\n      <td>[\"Ichabod Crane\"]</td>\n    </tr>\n    <tr>\n      <th>367979</th>\n      <td>tt0181833</td>\n      <td>nm0000136</td>\n      <td>The Source: The Story of the Beats and the Bea...</td>\n      <td>1999</td>\n      <td>Johnny Depp</td>\n      <td>[\"Jack Kerouac\"]</td>\n    </tr>\n    <tr>\n      <th>367981</th>\n      <td>tt0247196</td>\n      <td>nm0000136</td>\n      <td>Before Night Falls</td>\n      <td>2000</td>\n      <td>Johnny Depp</td>\n      <td>[\"Bon Bon\",\"Lieutenant Victor\"]</td>\n    </tr>\n    <tr>\n      <th>367974</th>\n      <td>tt0120681</td>\n      <td>nm0000136</td>\n      <td>From Hell</td>\n      <td>2001</td>\n      <td>Johnny Depp</td>\n      <td>[\"Inspector Frederick Abberline\"]</td>\n    </tr>\n    <tr>\n      <th>367980</th>\n      <td>tt0221027</td>\n      <td>nm0000136</td>\n      <td>Blow</td>\n      <td>2001</td>\n      <td>Johnny Depp</td>\n      <td>[\"George Jung\"]</td>\n    </tr>\n    <tr>\n      <th>367982</th>\n      <td>tt0285823</td>\n      <td>nm0000136</td>\n      <td>Once Upon a Time in Mexico</td>\n      <td>2003</td>\n      <td>Johnny Depp</td>\n      <td>[\"Sands\"]</td>\n    </tr>\n    <tr>\n      <th>367984</th>\n      <td>tt0325980</td>\n      <td>nm0000136</td>\n      <td>Pirates of the Caribbean: The Curse of the Bla...</td>\n      <td>2003</td>\n      <td>Johnny Depp</td>\n      <td>[\"Jack Sparrow\"]</td>\n    </tr>\n    <tr>\n      <th>367985</th>\n      <td>tt0363988</td>\n      <td>nm0000136</td>\n      <td>Secret Window</td>\n      <td>2004</td>\n      <td>Johnny Depp</td>\n      <td>[\"Mort Rainey\"]</td>\n    </tr>\n    <tr>\n      <th>367989</th>\n      <td>tt0381270</td>\n      <td>nm0000136</td>\n      <td>...And They Lived Happily Ever After</td>\n      <td>2004</td>\n      <td>Johnny Depp</td>\n      <td>[\"L'inconnu\"]</td>\n    </tr>\n    <tr>\n      <th>367987</th>\n      <td>tt0375920</td>\n      <td>nm0000136</td>\n      <td>The Libertine</td>\n      <td>2004</td>\n      <td>Johnny Depp</td>\n      <td>[\"Rochester\"]</td>\n    </tr>\n    <tr>\n      <th>367983</th>\n      <td>tt0308644</td>\n      <td>nm0000136</td>\n      <td>Finding Neverland</td>\n      <td>2004</td>\n      <td>Johnny Depp</td>\n      <td>[\"Sir James Matthew Barrie\"]</td>\n    </tr>\n    <tr>\n      <th>367986</th>\n      <td>tt0367594</td>\n      <td>nm0000136</td>\n      <td>Charlie and the Chocolate Factory</td>\n      <td>2005</td>\n      <td>Johnny Depp</td>\n      <td>[\"Willy Wonka\"]</td>\n    </tr>\n    <tr>\n      <th>367975</th>\n      <td>tt0121164</td>\n      <td>nm0000136</td>\n      <td>Corpse Bride</td>\n      <td>2005</td>\n      <td>Johnny Depp</td>\n      <td>[\"Victor Van Dort\"]</td>\n    </tr>\n    <tr>\n      <th>367990</th>\n      <td>tt0383574</td>\n      <td>nm0000136</td>\n      <td>Pirates of the Caribbean: Dead Man's Chest</td>\n      <td>2006</td>\n      <td>Johnny Depp</td>\n      <td>[\"Jack Sparrow\"]</td>\n    </tr>\n    <tr>\n      <th>367991</th>\n      <td>tt0408236</td>\n      <td>nm0000136</td>\n      <td>Sweeney Todd: The Demon Barber of Fleet Street</td>\n      <td>2007</td>\n      <td>Johnny Depp</td>\n      <td>[\"Sweeney Todd\"]</td>\n    </tr>\n    <tr>\n      <th>367992</th>\n      <td>tt0449088</td>\n      <td>nm0000136</td>\n      <td>Pirates of the Caribbean: At World's End</td>\n      <td>2007</td>\n      <td>Johnny Depp</td>\n      <td>[\"Jack Sparrow\"]</td>\n    </tr>\n    <tr>\n      <th>367995</th>\n      <td>tt1152836</td>\n      <td>nm0000136</td>\n      <td>Public Enemies</td>\n      <td>2009</td>\n      <td>Johnny Depp</td>\n      <td>[\"John Dillinger\"]</td>\n    </tr>\n    <tr>\n      <th>368000</th>\n      <td>tt1333667</td>\n      <td>nm0000136</td>\n      <td>When You're Strange</td>\n      <td>2009</td>\n      <td>Johnny Depp</td>\n      <td>[\"Narrator\"]</td>\n    </tr>\n    <tr>\n      <th>367998</th>\n      <td>tt1243957</td>\n      <td>nm0000136</td>\n      <td>The Tourist</td>\n      <td>2010</td>\n      <td>Johnny Depp</td>\n      <td>[\"Frank Tupelo\"]</td>\n    </tr>\n    <tr>\n      <th>367993</th>\n      <td>tt1014759</td>\n      <td>nm0000136</td>\n      <td>Alice in Wonderland</td>\n      <td>2010</td>\n      <td>Johnny Depp</td>\n      <td>[\"Mad Hatter\"]</td>\n    </tr>\n    <tr>\n      <th>367988</th>\n      <td>tt0376136</td>\n      <td>nm0000136</td>\n      <td>The Rum Diary</td>\n      <td>2011</td>\n      <td>Johnny Depp</td>\n      <td>[\"Kemp\"]</td>\n    </tr>\n    <tr>\n      <th>367996</th>\n      <td>tt1192628</td>\n      <td>nm0000136</td>\n      <td>Rango</td>\n      <td>2011</td>\n      <td>Johnny Depp</td>\n      <td>[\"Rango\",\"Lars\"]</td>\n    </tr>\n    <tr>\n      <th>367999</th>\n      <td>tt1298650</td>\n      <td>nm0000136</td>\n      <td>Pirates of the Caribbean: On Stranger Tides</td>\n      <td>2011</td>\n      <td>Johnny Depp</td>\n      <td>[\"Jack Sparrow\"]</td>\n    </tr>\n    <tr>\n      <th>367994</th>\n      <td>tt1077368</td>\n      <td>nm0000136</td>\n      <td>Dark Shadows</td>\n      <td>2012</td>\n      <td>Johnny Depp</td>\n      <td>[\"Barnabas Collins\"]</td>\n    </tr>\n    <tr>\n      <th>367997</th>\n      <td>tt1210819</td>\n      <td>nm0000136</td>\n      <td>The Lone Ranger</td>\n      <td>2013</td>\n      <td>Johnny Depp</td>\n      <td>[\"Tonto\"]</td>\n    </tr>\n    <tr>\n      <th>368003</th>\n      <td>tt2209764</td>\n      <td>nm0000136</td>\n      <td>Transcendence</td>\n      <td>2014</td>\n      <td>Johnny Depp</td>\n      <td>[\"Will Caster\"]</td>\n    </tr>\n    <tr>\n      <th>368001</th>\n      <td>tt1355683</td>\n      <td>nm0000136</td>\n      <td>Black Mass</td>\n      <td>2015</td>\n      <td>Johnny Depp</td>\n      <td>[\"James 'Whitey' Bulger\"]</td>\n    </tr>\n    <tr>\n      <th>368007</th>\n      <td>tt3045616</td>\n      <td>nm0000136</td>\n      <td>Mortdecai</td>\n      <td>2015</td>\n      <td>Johnny Depp</td>\n      <td>[\"Mortdecai\"]</td>\n    </tr>\n    <tr>\n      <th>368005</th>\n      <td>tt2567026</td>\n      <td>nm0000136</td>\n      <td>Alice Through the Looking Glass</td>\n      <td>2016</td>\n      <td>Johnny Depp</td>\n      <td>[\"Hatter Tarrant Hightopp\"]</td>\n    </tr>\n    <tr>\n      <th>368008</th>\n      <td>tt3838992</td>\n      <td>nm0000136</td>\n      <td>Yoga Hosers</td>\n      <td>2016</td>\n      <td>Johnny Depp</td>\n      <td>[\"Guy Lapointe\"]</td>\n    </tr>\n    <tr>\n      <th>368013</th>\n      <td>tt7604980</td>\n      <td>nm0000136</td>\n      <td>Rolling Stone: Stories from the Edge</td>\n      <td>2017</td>\n      <td>Johnny Depp</td>\n      <td>[\"Hunter S. Thompson\"]</td>\n    </tr>\n    <tr>\n      <th>368002</th>\n      <td>tt1790809</td>\n      <td>nm0000136</td>\n      <td>Pirates of the Caribbean: Dead Men Tell No Tales</td>\n      <td>2017</td>\n      <td>Johnny Depp</td>\n      <td>[\"Captain Jack Sparrow\"]</td>\n    </tr>\n    <tr>\n      <th>368012</th>\n      <td>tt6865690</td>\n      <td>nm0000136</td>\n      <td>The Professor</td>\n      <td>2018</td>\n      <td>Johnny Depp</td>\n      <td>[\"Richard\"]</td>\n    </tr>\n    <tr>\n      <th>368004</th>\n      <td>tt2296777</td>\n      <td>nm0000136</td>\n      <td>Sherlock Gnomes</td>\n      <td>2018</td>\n      <td>Johnny Depp</td>\n      <td>[\"Sherlock Gnomes\"]</td>\n    </tr>\n    <tr>\n      <th>368006</th>\n      <td>tt2677722</td>\n      <td>nm0000136</td>\n      <td>City of Lies</td>\n      <td>2018</td>\n      <td>Johnny Depp</td>\n      <td>[\"Russell Poole\"]</td>\n    </tr>\n    <tr>\n      <th>368009</th>\n      <td>tt4123430</td>\n      <td>nm0000136</td>\n      <td>Fantastic Beasts: The Crimes of Grindelwald</td>\n      <td>2018</td>\n      <td>Johnny Depp</td>\n      <td>[\"Grindelwald\"]</td>\n    </tr>\n    <tr>\n      <th>368011</th>\n      <td>tt6149154</td>\n      <td>nm0000136</td>\n      <td>Waiting for the Barbarians</td>\n      <td>2019</td>\n      <td>Johnny Depp</td>\n      <td>[\"Colonel Joll\"]</td>\n    </tr>\n    <tr>\n      <th>368014</th>\n      <td>tt9179096</td>\n      <td>nm0000136</td>\n      <td>Minamata</td>\n      <td>2020</td>\n      <td>Johnny Depp</td>\n      <td>[\"W. Eugene Smith\"]</td>\n    </tr>\n    <tr>\n      <th>368010</th>\n      <td>tt4123432</td>\n      <td>nm0000136</td>\n      <td>Fantastic Beasts and Where to Find Them 3</td>\n      <td>2021</td>\n      <td>Johnny Depp</td>\n      <td>[\"Gellert Grindelwald\"]</td>\n    </tr>\n  </tbody>\n</table>\n</div>"
     },
     "metadata": {},
     "execution_count": 106
    }
   ],
   "source": [
    "johnny_depp = results['Actor'] == 'Johnny Depp'\n",
    "johnny_depp_movies = results[johnny_depp]\n",
    "johnny_depp_movies = johnny_depp_movies.sort_values(by=['Year'])\n",
    "johnny_depp_movies"
   ]
  },
  {
   "cell_type": "code",
   "execution_count": 107,
   "metadata": {},
   "outputs": [],
   "source": [
    "#### Write the combined results to a file"
   ]
  },
  {
   "cell_type": "code",
   "execution_count": 108,
   "metadata": {},
   "outputs": [],
   "source": [
    "results.to_csv('movies_and_actors.csv')"
   ]
  },
  {
   "cell_type": "code",
   "execution_count": null,
   "metadata": {},
   "outputs": [],
   "source": []
  }
 ],
 "metadata": {
  "kernelspec": {
   "display_name": "Python 3",
   "language": "python",
   "name": "python3"
  },
  "language_info": {
   "codemirror_mode": {
    "name": "ipython",
    "version": 3
   },
   "file_extension": ".py",
   "mimetype": "text/x-python",
   "name": "python",
   "nbconvert_exporter": "python",
   "pygments_lexer": "ipython3",
   "version": "3.8.2-final"
  }
 },
 "nbformat": 4,
 "nbformat_minor": 4
}